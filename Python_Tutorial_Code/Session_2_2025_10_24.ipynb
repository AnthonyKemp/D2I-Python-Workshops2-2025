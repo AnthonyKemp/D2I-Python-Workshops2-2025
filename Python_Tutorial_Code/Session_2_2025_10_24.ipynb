{
 "cells": [
  {
   "cell_type": "code",
   "execution_count": null,
   "id": "d223a790",
   "metadata": {},
   "outputs": [],
   "source": [
    "# Lists -> store list of things\n",
    "# lists of columns, lists of allowed gender/placement codes, etc\n",
    "# use those to clean up tabular data\n",
    "\n",
    "# Dictionaries -> store variables or other things in key : value pairs\n",
    "# Can be used to map one value to another e.g, current data is key : what you need is value\n",
    "# e.g., White British (Key) : WHBR (value)"
   ]
  },
  {
   "cell_type": "code",
   "execution_count": 12,
   "id": "8f1c1b69",
   "metadata": {},
   "outputs": [
    {
     "name": "stdout",
     "output_type": "stream",
     "text": [
      "blue\n",
      "l\n",
      "turquoise\n",
      "['purple', 'orange', ['red', 'blue', ['green', 'turquoise', 'beige']]]\n",
      "turquoise\n"
     ]
    }
   ],
   "source": [
    "list_1 = []\n",
    "cols_1 = [\"red\", \"blue\", [\"green\", \"turquoise\", \"beige\"]]\n",
    "cols_2 = [\"purple\", \"orange\", cols_1]\n",
    "print(cols_1[1])\n",
    "print(cols_1[1][1])\n",
    "print(cols_1[2][1])\n",
    "print(cols_2)\n",
    "print(cols_2[2][2][1])"
   ]
  },
  {
   "cell_type": "code",
   "execution_count": null,
   "id": "88e1b0e7",
   "metadata": {},
   "outputs": [
    {
     "data": {
      "text/plain": [
       "'other'"
      ]
     },
     "execution_count": 14,
     "metadata": {},
     "output_type": "execute_result"
    }
   ],
   "source": [
    "# Write a list which contains:\n",
    "# a float, an integer, a string, and another list which itself contains strings\n",
    "# use the square bracket notation to slice out and print the last string from the\n",
    "# list inside the list (try and do it using a minus rather than a normal number)\n",
    "# variables as standard are: lower case words, with _ between\n",
    "\n",
    "list_1 = [\"anthony\", 34, 100.5, [\"rabbit\", \"cycling\", \"other\"]]\n",
    "list_1[-1][-1]"
   ]
  },
  {
   "cell_type": "code",
   "execution_count": 19,
   "id": "ab1be6c3",
   "metadata": {},
   "outputs": [
    {
     "name": "stdout",
     "output_type": "stream",
     "text": [
      "['red', 'blue', ['green', 'turquoise', 'beige'], 10]\n",
      "['red', 'blue', ['green', 'turquoise', 'beige'], 10, 'brown']\n",
      "['red', 'blue', ['green', 'turquoise', 'beige'], 10, 'brown', ['purple', 'orange']]\n",
      "['red', 'blue', ['green', 'turquoise', 'beige'], 10, 'brown', ['purple', 'orange'], 'purple', 'orange']\n"
     ]
    }
   ],
   "source": [
    "# Functions \n",
    "# print() -> a word followed by ()\n",
    "# stuff inside () are called arguments\n",
    "# and Methods\n",
    "# give varible of type.method() ->variable.method()\n",
    "# methods are like functions for specific types\n",
    "# \n",
    "# methods for lists -> .append(), .extend(), .remove()\n",
    "\n",
    "cols_1 = [\"red\", \"blue\", [\"green\", \"turquoise\", \"beige\",],10]\n",
    "print(cols_1)\n",
    "\n",
    "cols_1.append(\"brown\") # mutates / changes\n",
    "print(cols_1)\n",
    "\n",
    "cols_2 = [\"purple\", \"orange\"]\n",
    "cols_1.append(cols_2)\n",
    "print(cols_1)\n",
    "\n",
    "cols_1.extend(cols_2) # adds things as individual elements\n",
    "print(cols_1)"
   ]
  },
  {
   "cell_type": "code",
   "execution_count": null,
   "id": "fb2eb9f1",
   "metadata": {},
   "outputs": [],
   "source": [
    "# Functions and Methods\n",
    "# print(arguments) <- ean example of a function\n",
    "# variable_of_type.method() <- method \n",
    "\n",
    "# .append(), .extend(), .remove() (.sort(), sort())\n",
    "\n",
    "cols_1 = [\"red\", \"blue\", \"red\"]\n",
    "print(cols_1)\n",
    "\n",
    "cols_1.append(\"brown\") # mutates\n",
    "print(cols_1)\n",
    "\n",
    "cols_2 = [\"purple\", \"orange\"]\n",
    "\n",
    "cols_1.append(cols_2) # adds stuff to lists as a single element\n",
    "print(cols_1)\n",
    "\n",
    "cols_1.extend(cols_2) # adds adds iterables as individual elements\n",
    "print(cols_1)\n",
    "\n",
    "cols_1.extend(\"brown\")\n",
    "print(cols_1)\n",
    "\n",
    "cols_1.remove(\"purple\") # removes only 1 element with a given value\n",
    "print(cols_1)"
   ]
  },
  {
   "cell_type": "code",
   "execution_count": 26,
   "id": "7fa53107",
   "metadata": {},
   "outputs": [
    {
     "name": "stdout",
     "output_type": "stream",
     "text": [
      "['ham', 'egg', 'bread']\n",
      "['ham', 'egg', 'bread', 'haribo']\n",
      "['bagel', 'curry', 'sausage']\n",
      "['ham', 'egg', 'bread', 'haribo', 'bagel', 'curry', 'sausage']\n",
      "['ham', 'egg', 'bread', 'bagel', 'curry', 'sausage']\n"
     ]
    }
   ],
   "source": [
    "# In this cell, make a list of a few foods and print it.\n",
    "foods_1 = [\"ham\", \"egg\", \"bread\"]\n",
    "print(foods_1)\n",
    "# Then append the list with another food and print it.\n",
    "foods_1.append(\"haribo\")\n",
    "print(foods_1)\n",
    "# Next, make another list of foods, and use the extend method to \n",
    "foods_2 = [\"bagel\", \"curry\", \"sausage\"]\n",
    "print(foods_2)\n",
    "# add those extra foods as individual elements of the list, and print it.\n",
    "foods_1.extend(foods_2)\n",
    "print(foods_1)\n",
    "# Finally, remove an element from the list and print the final list.\n",
    "foods_1.remove(\"haribo\")\n",
    "print(foods_1)\n",
    "# Remember to always use a suitable name for your lists!"
   ]
  },
  {
   "cell_type": "code",
   "execution_count": 35,
   "id": "95772b59",
   "metadata": {},
   "outputs": [
    {
     "name": "stdout",
     "output_type": "stream",
     "text": [
      "[2, 85, 46, 24, 458, 265, 147, 2, 1]\n",
      "[1, 2, 2, 24, 46, 85, 147, 265, 458]\n",
      "[458, 265, 147, 85, 46, 24, 2, 2, 1]\n",
      "[458, 265, 147, 85, 46, 24, 2, 2, 1]\n",
      "[1, 2, 2, 24, 46, 85, 147, 265, 458]\n"
     ]
    }
   ],
   "source": [
    "nums = [2, 85, 46, 24, 458, 265, 147, 2, 1]\n",
    "print(nums)\n",
    "nums.sort(reverse=False)\n",
    "print(nums)\n",
    "\n",
    "nums.sort(reverse=True)\n",
    "print(nums)\n",
    "\n",
    "sorted_nums = sorted(nums, reverse=False)\n",
    "print(nums)\n",
    "print(sorted_nums)"
   ]
  },
  {
   "cell_type": "code",
   "execution_count": null,
   "id": "77f40bea",
   "metadata": {},
   "outputs": [
    {
     "name": "stdout",
     "output_type": "stream",
     "text": [
      "black\n",
      "{'Monday': ['blue', 'yellow'], 'RoW': 'Grey'}\n",
      "['blue', 'yellow']\n",
      "blue\n",
      "['Will', 'Clare', 'Marcel']\n",
      "['black', 'yellow', {'Monday': ['blue', 'yellow'], 'RoW': 'Grey'}]\n",
      "[('Will', 'black'), ('Clare', 'yellow'), ('Marcel', {'Monday': ['blue', 'yellow'], 'RoW': 'Grey'})]\n"
     ]
    }
   ],
   "source": [
    "#Dictionaries\n",
    "\n",
    "\n",
    "fav_colours = {\"Will\":\"black\", \n",
    "               \"Clare\":\"yellow\",\n",
    "               \"Marcel\":{\"Monday\":[\"blue\", \"yellow\"],\n",
    "                            \"RoW\":\"Grey\"}}\n",
    "\n",
    "print(fav_colours[\"Will\"])\n",
    "print(fav_colours[\"Marcel\"])\n",
    "print(fav_colours[\"Marcel\"][\"Monday\"])\n",
    "print(fav_colours[\"Marcel\"][\"Monday\"][0])\n",
    "\n",
    "print(list(fav_colours.keys()))\n",
    "print(list(fav_colours.values()))\n",
    "print(list(fav_colours.items())) # returns tuples"
   ]
  },
  {
   "cell_type": "code",
   "execution_count": null,
   "id": "c4f9ea0b",
   "metadata": {},
   "outputs": [],
   "source": [
    " # key : value\n",
    "# keys MUSt be immuatable not mutatable -> keys must be either a string or a number\n",
    "\n",
    "fav_colours = {\"Will\":\"black\", \n",
    "               \"Clare\":\"yellow\",\n",
    "               \"Marcel\":{\"Monday\":[\"blue\", \"yellow\"],\n",
    "                         \"RoW\":\"Grey\"}}\n",
    "\n",
    "# type(fav_colours)\n",
    "\n",
    "fav_colours[\"Will\"] # accessing dicitonaries by key\n",
    "\n",
    "fav_colours[\"Marcel\"][\"Monday\"][0] # accessing nested elements\n",
    "\n",
    "list(fav_colours.keys())\n",
    "\n",
    "list(fav_colours.values())\n",
    "\n",
    "list(fav_colours.items()) # returns tuples\n",
    "\n"
   ]
  },
  {
   "cell_type": "code",
   "execution_count": 60,
   "id": "e6254bfe",
   "metadata": {},
   "outputs": [
    {
     "name": "stdout",
     "output_type": "stream",
     "text": [
      "{'MacD': {'Monday': 'fries', 'Wednesday': 'burger'}, 'KFC': 'chicken', 'TacoB': 'taco'}\n",
      "dict_keys(['MacD', 'KFC', 'TacoB'])\n",
      "dict_values([{'Monday': 'fries', 'Wednesday': 'burger'}, 'chicken', 'taco'])\n",
      "dict_items([('MacD', {'Monday': 'fries', 'Wednesday': 'burger'}), ('KFC', 'chicken'), ('TacoB', 'taco')])\n",
      "dict_values(['fries', 'burger'])\n"
     ]
    }
   ],
   "source": [
    "# make a dictionary of restaurants with keys being the name and values being the foods,\n",
    "rest = {\"MacD\":{\"Monday\":\"fries\",\n",
    "                \"Wednesday\":\"burger\"},\n",
    "        \"KFC\":\"chicken\",\n",
    "        \"TacoB\":\"taco\"}\n",
    "print(rest)\n",
    "# make sure at least one value is a list of foods, and another is a dicitonary of days and foods\n",
    "# use the keys, values, and items methods to views those\n",
    "\n",
    "print(rest.keys())\n",
    "print(rest.values())\n",
    "print(rest.items())\n",
    "\n",
    "print(rest[\"MacD\"].values())\n",
    "\n"
   ]
  },
  {
   "cell_type": "code",
   "execution_count": 71,
   "id": "fda0866d",
   "metadata": {},
   "outputs": [
    {
     "name": "stdout",
     "output_type": "stream",
     "text": [
      "{'MacD': {'Monday': 'fries', 'Wednesday': 'burger'}, 'KFC': 'chicken', 'TacoB': 'taco'}\n",
      "dict_values(['fries', 'burger'])\n",
      "{'MacD': {'Monday': 'fries', 'Wednesday': 'burger'}, 'KFC': 'chicken', 'TacoB': 'taco', 'pub': 'roast'}\n",
      "False\n"
     ]
    }
   ],
   "source": [
    "#fav_colours = {\"Will\":\"black\", \n",
    "               #\"Clare\":\"yellow\",\n",
    "               #\"Marcel\":{\"Monday\":[\"blue\", \"yellow\"],\n",
    "               #          \"RoW\":\"Grey\"}}\n",
    "\n",
    "#fav_colours[\"Andrew\"] = \"black\" # this notation is the same for columns when working with tab. data\n",
    "#print(fav_colours)\n",
    "\n",
    "#fav_colours['Will'] = [\"purple\", \"black\"]\n",
    "\n",
    "#print(fav_colours)\n",
    "\n",
    "#print(\"Will\" in fav_colours)\n",
    "#print(\"Naiomi\" in fav_colours)\n",
    "\n",
    "# Using the key, print the values of one of the restaurants in your dicitonary.\n",
    "# Add a new key:value pair to your dictionary, as above.\n",
    "# Check whether 'Coffee Shop' is a key in your dictionary, printing the answer.\n",
    "rest = {\"MacD\":{\"Monday\":\"fries\",\n",
    "                \"Wednesday\":\"burger\"},\n",
    "        \"KFC\":\"chicken\",\n",
    "        \"TacoB\":\"taco\"}\n",
    "print(rest)\n",
    "# Using the key, print the values of one of the restaurants in your dicitonary.\n",
    "print(rest[\"MacD\"].values())\n",
    "# Add a new key:value pair to your dictionary, as above.\n",
    "rest[\"pub\"] = \"roast\"\n",
    "print(rest)\n",
    "# Check whether 'Coffee Shop' is a key in your dictionary, printing the answer.\n",
    "print(\"Coffee Shop\" in rest)"
   ]
  }
 ],
 "metadata": {
  "kernelspec": {
   "display_name": "Python 3",
   "language": "python",
   "name": "python3"
  },
  "language_info": {
   "codemirror_mode": {
    "name": "ipython",
    "version": 3
   },
   "file_extension": ".py",
   "mimetype": "text/x-python",
   "name": "python",
   "nbconvert_exporter": "python",
   "pygments_lexer": "ipython3",
   "version": "3.12.1"
  }
 },
 "nbformat": 4,
 "nbformat_minor": 5
}
