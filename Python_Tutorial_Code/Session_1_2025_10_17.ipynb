{
 "cells": [
  {
   "cell_type": "code",
   "execution_count": 9,
   "id": "944665f5",
   "metadata": {},
   "outputs": [
    {
     "name": "stdout",
     "output_type": "stream",
     "text": [
      "5\n",
      "2\n"
     ]
    },
    {
     "data": {
      "text/plain": [
       "5"
      ]
     },
     "execution_count": 9,
     "metadata": {},
     "output_type": "execute_result"
    }
   ],
   "source": [
    "num_1 = 5\n",
    "\n",
    "print(num_1)\n",
    "print(1+1)\n",
    "num_1"
   ]
  },
  {
   "cell_type": "code",
   "execution_count": 14,
   "id": "88fa8937",
   "metadata": {},
   "outputs": [
    {
     "data": {
      "text/plain": [
       "15"
      ]
     },
     "execution_count": 14,
     "metadata": {},
     "output_type": "execute_result"
    }
   ],
   "source": [
    "num_1 = 5\n",
    "num_2 = 10\n",
    "answer = num_1 + num_2\n",
    "answer"
   ]
  },
  {
   "cell_type": "code",
   "execution_count": 15,
   "id": "04ccf791",
   "metadata": {},
   "outputs": [
    {
     "name": "stdout",
     "output_type": "stream",
     "text": [
      "-157.5\n"
     ]
    }
   ],
   "source": [
    "#In this cell, initialise two numeric variables and find their product\n",
    "#using the * operator for multiplication and assign this to a new variable.\n",
    "#Print the new variable\n",
    "\n",
    "num_1 = 31.5\n",
    "num_2 = -5\n",
    "\n",
    "answer = num_1 * num_2\n",
    "print(answer)\n",
    " \n"
   ]
  },
  {
   "cell_type": "code",
   "execution_count": 1,
   "id": "2fcb7e86",
   "metadata": {},
   "outputs": [
    {
     "name": "stdout",
     "output_type": "stream",
     "text": [
      "12.56\n"
     ]
    }
   ],
   "source": [
    "#The radius of a circle is 2, assume that Pi is 3.14. Assign both of these\n",
    "#to suitably named variables and find the area of the circle.\n",
    "#We can find the area of a circle by finding the product of Pi with the radius squared.\n",
    "#You probably don't know how to square a number in Python yet, so use Google to work it out!\n",
    "#radius of circle pi*r(squared)\n",
    "\n",
    "r = 2\n",
    "rsq = r ** 2\n",
    "pi = 3.14\n",
    "\n",
    "area = pi * rsq\n",
    "print (area)"
   ]
  },
  {
   "cell_type": "code",
   "execution_count": null,
   "id": "fa2c8b37",
   "metadata": {},
   "outputs": [
    {
     "data": {
      "text/plain": [
       "\"I'm Anthony and I'm a BI & Insight Analyst\""
      ]
     },
     "execution_count": 3,
     "metadata": {},
     "output_type": "execute_result"
    }
   ],
   "source": [
    "name = \"Anthony\"\n",
    "job = \"BI & Insight Analyst\"\n",
    "\n",
    "name_job = f\"I'm {name} and I'm a {job}\" #f string function\n",
    "\n",
    "name_job"
   ]
  },
  {
   "cell_type": "code",
   "execution_count": null,
   "id": "004453ff",
   "metadata": {},
   "outputs": [
    {
     "data": {
      "text/plain": [
       "'st'"
      ]
     },
     "execution_count": 14,
     "metadata": {},
     "output_type": "execute_result"
    }
   ],
   "source": [
    "phrase = name_job\n",
    "\n",
    "phrase[11] #\n",
    "phrase [1:5] #range first character is inclusive, second number is exclusive\n",
    "phrase [:2]\n",
    "phrase [:20]\n",
    "phrase [::3]\n",
    "phrase [-2:] #this does it from the end of the string"
   ]
  }
 ],
 "metadata": {
  "kernelspec": {
   "display_name": "Python 3",
   "language": "python",
   "name": "python3"
  },
  "language_info": {
   "codemirror_mode": {
    "name": "ipython",
    "version": 3
   },
   "file_extension": ".py",
   "mimetype": "text/x-python",
   "name": "python",
   "nbconvert_exporter": "python",
   "pygments_lexer": "ipython3",
   "version": "3.12.1"
  }
 },
 "nbformat": 4,
 "nbformat_minor": 5
}
